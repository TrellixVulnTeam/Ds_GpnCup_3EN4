{
 "cells": [
  {
   "cell_type": "code",
   "execution_count": 1,
   "metadata": {
    "id": "qiO3mS1yMckZ"
   },
   "outputs": [],
   "source": [
    "import json\n",
    "import pyarrow.parquet as pq\n",
    "import pandas as pd\n",
    "import pyarrow as pa\n",
    "import matplotlib.pyplot as plt\n",
    "import numpy as np\n",
    "from sklearn.preprocessing import LabelEncoder\n",
    "from sklearn.cluster import AgglomerativeClustering\n",
    "from scipy.cluster.hierarchy import dendrogram\n",
    "from scipy.cluster.hierarchy import linkage\n",
    "from scipy.spatial import distance_matrix\n",
    "\n",
    "def read_data_parquett():\n",
    "    table1 = pd.read_parquet('sales.parquet', \n",
    "                             columns=['date', 'shop_id', 'owner', 'number_of_counters',\n",
    "                                      'goods_type', 'total_items_sold',],\n",
    "                              engine='pyarrow' )\n",
    "\n",
    "    table2 = pd.read_parquet('shops.parquet', \n",
    "                             columns=['shop_id', 'neighborhood', 'city',\n",
    "                                      'year_opened', 'is_on_the_road', 'is_with_the_well',\n",
    "                                      'is_with_additional_services', 'shop_type', ],\n",
    "                              engine='pyarrow' )\n",
    "\n",
    "    table3 = pd.read_parquet('cities.parquet', engine='pyarrow' )\n",
    "#     print(table1.head(n=15))\n",
    "#     print(table2.head(n=15))\n",
    "\n",
    "    # x = pd.concat([table1, table2.reindex(table1.index)], axis=1)\n",
    "    table1 = pd.DataFrame(table1)\n",
    "    table2 = pd.DataFrame(table2)\n",
    "    table3 = pd.DataFrame(table3)\n",
    "    \n",
    "    table23 = table2.join(table3.set_index('city'), on='city')\n",
    "    full_table = table23.join(table1.set_index('shop_id'))\n",
    "#     print(full_table)\n",
    "    return full_table\n",
    "\n",
    "def fill_empty_fields(table):\n",
    "    table = table.fillna({\"is_on_the_road\": \"нет\"})\n",
    "    table = table.fillna({\"is_with_the_well\": \"нет\"})\n",
    "    table = table.fillna({\"is_with_additional_services\": \"нет\"})\n",
    "    table = table.fillna({\"shop_type\" : \"неизвестно\"})\n",
    "    table = table.fillna({\"location\" : \"неизвестно\"})\n",
    "#     table = table.fillna({\"location\" : None})\n",
    "    return table\n",
    "\n",
    "def change_type(table, col_name):\n",
    "    column = table[col_name].copy()\n",
    "    column = str(column)\n",
    "    table[col_name] = column\n",
    "    return table\n",
    "\n",
    "def replace_string_columns(table):\n",
    "    \n",
    "    obj_df = table.select_dtypes(include=['object']).copy()\n",
    "    # print(full_table.isnull().sum())\n",
    "    col_names = [col_name for col_name in obj_df]\n",
    "    lb_make = LabelEncoder()\n",
    "    for col_name in col_names:\n",
    "        if col_name == \"shop_id\":\n",
    "            continue\n",
    "    #     full_table[col_name+'_'] = lb_make.fit_transform(full_table[col_name])\n",
    "        table[col_name] = table[col_name].astype('category')\n",
    "        table[col_name] = table[col_name].cat.codes\n",
    "    return table\n",
    "\n",
    "def normalize_column(table, col_name):\n",
    "    column = table[col_name].copy()\n",
    "    normalized_col = (column-column.min())/(column.max()-column.min())\n",
    "    table[col_name] = normalized_col\n",
    "    \n",
    "    return table\n",
    "\n",
    "\n",
    "def plot_dendrogram(model, **kwargs):\n",
    "    # Create linkage matrix and then plot the dendrogram\n",
    "\n",
    "    # create the counts of samples under each node\n",
    "    counts = np.zeros(model.children_.shape[0])\n",
    "    n_samples = len(model.labels_)\n",
    "    for i, merge in enumerate(model.children_):\n",
    "        current_count = 0\n",
    "        for child_idx in merge:\n",
    "            if child_idx < n_samples:\n",
    "                current_count += 1  # leaf node\n",
    "            else:\n",
    "                current_count += counts[child_idx - n_samples]\n",
    "        counts[i] = current_count\n",
    "\n",
    "    linkage_matrix = np.column_stack([model.children_, model.distances_,\n",
    "                                      counts]).astype(float)\n",
    "\n",
    "    # Plot the corresponding dendrogram\n",
    "    dendrogram(linkage_matrix, **kwargs)"
   ]
  },
  {
   "cell_type": "code",
   "execution_count": null,
   "metadata": {
    "id": "DlcZhi6FMckd"
   },
   "outputs": [],
   "source": []
  },
  {
   "cell_type": "code",
   "execution_count": 4,
   "metadata": {
    "id": "SDDeLR4RMckn"
   },
   "outputs": [],
   "source": [
    "\n"
   ]
  },
  {
   "cell_type": "code",
   "execution_count": 2,
   "metadata": {
    "colab": {
     "base_uri": "https://localhost:8080/",
     "height": 590
    },
    "id": "2QnG46DPMckp",
    "outputId": "bb04ddce-1b72-4903-ae09-bbe40d9d1dea"
   },
   "outputs": [
    {
     "data": {
      "text/html": [
       "<div>\n",
       "<style scoped>\n",
       "    .dataframe tbody tr th:only-of-type {\n",
       "        vertical-align: middle;\n",
       "    }\n",
       "\n",
       "    .dataframe tbody tr th {\n",
       "        vertical-align: top;\n",
       "    }\n",
       "\n",
       "    .dataframe thead th {\n",
       "        text-align: right;\n",
       "    }\n",
       "</style>\n",
       "<table border=\"1\" class=\"dataframe\">\n",
       "  <thead>\n",
       "    <tr style=\"text-align: right;\">\n",
       "      <th></th>\n",
       "      <th>shop_id</th>\n",
       "      <th>neighborhood</th>\n",
       "      <th>city</th>\n",
       "      <th>year_opened</th>\n",
       "      <th>is_on_the_road</th>\n",
       "      <th>is_with_the_well</th>\n",
       "      <th>is_with_additional_services</th>\n",
       "      <th>shop_type</th>\n",
       "      <th>location</th>\n",
       "      <th>date</th>\n",
       "      <th>owner</th>\n",
       "      <th>number_of_counters</th>\n",
       "      <th>goods_type</th>\n",
       "      <th>total_items_sold</th>\n",
       "    </tr>\n",
       "  </thead>\n",
       "  <tbody>\n",
       "    <tr>\n",
       "      <th>0</th>\n",
       "      <td>705</td>\n",
       "      <td>0</td>\n",
       "      <td>4</td>\n",
       "      <td>2109</td>\n",
       "      <td>1</td>\n",
       "      <td>0</td>\n",
       "      <td>0</td>\n",
       "      <td>0</td>\n",
       "      <td>2</td>\n",
       "      <td>2146-01-01</td>\n",
       "      <td>3</td>\n",
       "      <td>4</td>\n",
       "      <td>8</td>\n",
       "      <td>0.023815</td>\n",
       "    </tr>\n",
       "    <tr>\n",
       "      <th>0</th>\n",
       "      <td>705</td>\n",
       "      <td>0</td>\n",
       "      <td>4</td>\n",
       "      <td>2109</td>\n",
       "      <td>1</td>\n",
       "      <td>0</td>\n",
       "      <td>0</td>\n",
       "      <td>0</td>\n",
       "      <td>2</td>\n",
       "      <td>2146-01-01</td>\n",
       "      <td>3</td>\n",
       "      <td>4</td>\n",
       "      <td>9</td>\n",
       "      <td>0.023895</td>\n",
       "    </tr>\n",
       "    <tr>\n",
       "      <th>0</th>\n",
       "      <td>705</td>\n",
       "      <td>0</td>\n",
       "      <td>4</td>\n",
       "      <td>2109</td>\n",
       "      <td>1</td>\n",
       "      <td>0</td>\n",
       "      <td>0</td>\n",
       "      <td>0</td>\n",
       "      <td>2</td>\n",
       "      <td>2146-01-01</td>\n",
       "      <td>3</td>\n",
       "      <td>4</td>\n",
       "      <td>0</td>\n",
       "      <td>0.065888</td>\n",
       "    </tr>\n",
       "    <tr>\n",
       "      <th>0</th>\n",
       "      <td>705</td>\n",
       "      <td>0</td>\n",
       "      <td>4</td>\n",
       "      <td>2109</td>\n",
       "      <td>1</td>\n",
       "      <td>0</td>\n",
       "      <td>0</td>\n",
       "      <td>0</td>\n",
       "      <td>2</td>\n",
       "      <td>2146-01-02</td>\n",
       "      <td>3</td>\n",
       "      <td>4</td>\n",
       "      <td>8</td>\n",
       "      <td>0.023803</td>\n",
       "    </tr>\n",
       "    <tr>\n",
       "      <th>0</th>\n",
       "      <td>705</td>\n",
       "      <td>0</td>\n",
       "      <td>4</td>\n",
       "      <td>2109</td>\n",
       "      <td>1</td>\n",
       "      <td>0</td>\n",
       "      <td>0</td>\n",
       "      <td>0</td>\n",
       "      <td>2</td>\n",
       "      <td>2146-01-02</td>\n",
       "      <td>3</td>\n",
       "      <td>4</td>\n",
       "      <td>9</td>\n",
       "      <td>0.023811</td>\n",
       "    </tr>\n",
       "    <tr>\n",
       "      <th>...</th>\n",
       "      <td>...</td>\n",
       "      <td>...</td>\n",
       "      <td>...</td>\n",
       "      <td>...</td>\n",
       "      <td>...</td>\n",
       "      <td>...</td>\n",
       "      <td>...</td>\n",
       "      <td>...</td>\n",
       "      <td>...</td>\n",
       "      <td>...</td>\n",
       "      <td>...</td>\n",
       "      <td>...</td>\n",
       "      <td>...</td>\n",
       "      <td>...</td>\n",
       "    </tr>\n",
       "    <tr>\n",
       "      <th>844</th>\n",
       "      <td>289</td>\n",
       "      <td>0</td>\n",
       "      <td>4</td>\n",
       "      <td>2133</td>\n",
       "      <td>1</td>\n",
       "      <td>1</td>\n",
       "      <td>0</td>\n",
       "      <td>2</td>\n",
       "      <td>2</td>\n",
       "      <td>2147-12-31</td>\n",
       "      <td>3</td>\n",
       "      <td>10</td>\n",
       "      <td>2</td>\n",
       "      <td>0.023999</td>\n",
       "    </tr>\n",
       "    <tr>\n",
       "      <th>844</th>\n",
       "      <td>289</td>\n",
       "      <td>0</td>\n",
       "      <td>4</td>\n",
       "      <td>2133</td>\n",
       "      <td>1</td>\n",
       "      <td>1</td>\n",
       "      <td>0</td>\n",
       "      <td>2</td>\n",
       "      <td>2</td>\n",
       "      <td>2147-12-31</td>\n",
       "      <td>3</td>\n",
       "      <td>10</td>\n",
       "      <td>5</td>\n",
       "      <td>0.024119</td>\n",
       "    </tr>\n",
       "    <tr>\n",
       "      <th>844</th>\n",
       "      <td>289</td>\n",
       "      <td>0</td>\n",
       "      <td>4</td>\n",
       "      <td>2133</td>\n",
       "      <td>1</td>\n",
       "      <td>1</td>\n",
       "      <td>0</td>\n",
       "      <td>2</td>\n",
       "      <td>2</td>\n",
       "      <td>2147-12-31</td>\n",
       "      <td>3</td>\n",
       "      <td>10</td>\n",
       "      <td>1</td>\n",
       "      <td>0.023867</td>\n",
       "    </tr>\n",
       "    <tr>\n",
       "      <th>844</th>\n",
       "      <td>289</td>\n",
       "      <td>0</td>\n",
       "      <td>4</td>\n",
       "      <td>2133</td>\n",
       "      <td>1</td>\n",
       "      <td>1</td>\n",
       "      <td>0</td>\n",
       "      <td>2</td>\n",
       "      <td>2</td>\n",
       "      <td>2147-12-31</td>\n",
       "      <td>3</td>\n",
       "      <td>10</td>\n",
       "      <td>0</td>\n",
       "      <td>0.195867</td>\n",
       "    </tr>\n",
       "    <tr>\n",
       "      <th>844</th>\n",
       "      <td>289</td>\n",
       "      <td>0</td>\n",
       "      <td>4</td>\n",
       "      <td>2133</td>\n",
       "      <td>1</td>\n",
       "      <td>1</td>\n",
       "      <td>0</td>\n",
       "      <td>2</td>\n",
       "      <td>2</td>\n",
       "      <td>2147-12-31</td>\n",
       "      <td>3</td>\n",
       "      <td>10</td>\n",
       "      <td>7</td>\n",
       "      <td>0.051682</td>\n",
       "    </tr>\n",
       "  </tbody>\n",
       "</table>\n",
       "<p>5081459 rows × 14 columns</p>\n",
       "</div>"
      ],
      "text/plain": [
       "     shop_id  neighborhood  city  year_opened  is_on_the_road  \\\n",
       "0        705             0     4         2109               1   \n",
       "0        705             0     4         2109               1   \n",
       "0        705             0     4         2109               1   \n",
       "0        705             0     4         2109               1   \n",
       "0        705             0     4         2109               1   \n",
       "..       ...           ...   ...          ...             ...   \n",
       "844      289             0     4         2133               1   \n",
       "844      289             0     4         2133               1   \n",
       "844      289             0     4         2133               1   \n",
       "844      289             0     4         2133               1   \n",
       "844      289             0     4         2133               1   \n",
       "\n",
       "     is_with_the_well  is_with_additional_services  shop_type  location  \\\n",
       "0                   0                            0          0         2   \n",
       "0                   0                            0          0         2   \n",
       "0                   0                            0          0         2   \n",
       "0                   0                            0          0         2   \n",
       "0                   0                            0          0         2   \n",
       "..                ...                          ...        ...       ...   \n",
       "844                 1                            0          2         2   \n",
       "844                 1                            0          2         2   \n",
       "844                 1                            0          2         2   \n",
       "844                 1                            0          2         2   \n",
       "844                 1                            0          2         2   \n",
       "\n",
       "          date  owner  number_of_counters  goods_type  total_items_sold  \n",
       "0   2146-01-01      3                   4           8          0.023815  \n",
       "0   2146-01-01      3                   4           9          0.023895  \n",
       "0   2146-01-01      3                   4           0          0.065888  \n",
       "0   2146-01-02      3                   4           8          0.023803  \n",
       "0   2146-01-02      3                   4           9          0.023811  \n",
       "..         ...    ...                 ...         ...               ...  \n",
       "844 2147-12-31      3                  10           2          0.023999  \n",
       "844 2147-12-31      3                  10           5          0.024119  \n",
       "844 2147-12-31      3                  10           1          0.023867  \n",
       "844 2147-12-31      3                  10           0          0.195867  \n",
       "844 2147-12-31      3                  10           7          0.051682  \n",
       "\n",
       "[5081459 rows x 14 columns]"
      ]
     },
     "execution_count": 2,
     "metadata": {},
     "output_type": "execute_result"
    }
   ],
   "source": [
    "table = read_data_parquett()\n",
    "table = fill_empty_fields(table)\n",
    "# table = change_type(table, 'date')\n",
    "table = replace_string_columns(table)\n",
    "table = normalize_column(table, 'total_items_sold')\n",
    "table"
   ]
  },
  {
   "cell_type": "code",
   "execution_count": null,
   "metadata": {
    "id": "yTQzfyfjdwsG"
   },
   "outputs": [],
   "source": []
  },
  {
   "cell_type": "code",
   "execution_count": 3,
   "metadata": {
    "id": "o-FqY2uNMckt"
   },
   "outputs": [],
   "source": [
    "\n",
    "all_columns = [n for n in table]\n",
    "train_columns = ['neighborhood', 'city', 'year_opened', 'is_on_the_road', \n",
    "                  'is_with_the_well', 'is_with_additional_services', \n",
    "                  'shop_type', 'location', 'number_of_counters',\n",
    "                  'goods_type', 'total_items_sold']\n",
    "                  \n",
    "# train_columns = ['year_opened', 'is_on_the_road',\n",
    "#                   'shop_type', 'location', \n",
    "#                   'goods_type']\n",
    "\n",
    "\n"
   ]
  },
  {
   "cell_type": "code",
   "execution_count": 6,
   "metadata": {},
   "outputs": [
    {
     "data": {
      "text/plain": [
       "5081459"
      ]
     },
     "execution_count": 6,
     "metadata": {},
     "output_type": "execute_result"
    }
   ],
   "source": [
    "table.shape[0]"
   ]
  },
  {
   "cell_type": "code",
   "execution_count": null,
   "metadata": {
    "colab": {
     "base_uri": "https://localhost:8080/"
    },
    "id": "sQD55eWvjvOO",
    "outputId": "ad5b146f-758c-4398-873e-5be23d3864e3"
   },
   "outputs": [],
   "source": [
    "# small_table = table[30000:40000]\n",
    "from sklearn.preprocessing import MinMaxScaler\n",
    "scaler = MinMaxScaler()\n",
    "\n",
    "full_table = table.copy()\n",
    "full_table['cluster'] = 0\n",
    "step = 10000\n",
    "for n in range(0, table.shape[0], step):\n",
    "    small_table = table[n:n+step]\n",
    "    chosen_table = small_table.loc[:, train_columns]\n",
    "    # X = np.array(X)\n",
    "    transformed_table = scaler.fit_transform(chosen_table)\n",
    "    # final_table.shape\n",
    "    clustering = AgglomerativeClustering(linkage=\"complete\").fit(transformed_table)\n",
    "    final = small_table.copy()\n",
    "    final['cluster'] = clustering.labels_\n",
    "    full_table.append(final)\n",
    "full_table"
   ]
  },
  {
   "cell_type": "code",
   "execution_count": null,
   "metadata": {},
   "outputs": [],
   "source": [
    "part_table = full_table.head(1000)\n",
    "plt.scatter(part_table[:, 0], part_table[:, 1], c=part_table['cluster'], s=50, cmap='viridis');"
   ]
  },
  {
   "cell_type": "code",
   "execution_count": 5,
   "metadata": {
    "colab": {
     "base_uri": "https://localhost:8080/"
    },
    "id": "VghdJ3Onntjd",
    "outputId": "460cec22-ce78-4de0-b3e9-29a8d51a027b"
   },
   "outputs": [
    {
     "data": {
      "text/plain": [
       "AgglomerativeClustering(linkage='complete')"
      ]
     },
     "execution_count": 5,
     "metadata": {},
     "output_type": "execute_result"
    }
   ],
   "source": [
    "clustering = AgglomerativeClustering(linkage=\"complete\").fit(final_table)\n",
    "# pred = clustering.fit_predict(X)\n",
    "clustering\n",
    "# print(X)"
   ]
  },
  {
   "cell_type": "code",
   "execution_count": 6,
   "metadata": {
    "id": "cfZ0Nm4-orqy"
   },
   "outputs": [],
   "source": [
    "# plot_dendrogram(clustering, truncate_mode='level')\n",
    "\n",
    "final = small_table.copy()\n",
    "final['cluster'] = clustering.labels_\n"
   ]
  },
  {
   "cell_type": "code",
   "execution_count": null,
   "metadata": {
    "id": "B-LRDWlHvMlr"
   },
   "outputs": [
    {
     "name": "stderr",
     "output_type": "stream",
     "text": [
      "c:\\users\\aliev\\appdata\\local\\programs\\python\\python37\\lib\\site-packages\\ipykernel_launcher.py:3: ClusterWarning: scipy.cluster: The symmetric non-negative hollow observation matrix looks suspiciously like an uncondensed distance matrix\n",
      "  This is separate from the ipykernel package so we can avoid doing imports until\n"
     ]
    }
   ],
   "source": [
    "final_arr = np.array(final_table)\n",
    "distance = distance_matrix(final_arr, final_arr)\n",
    "graph = linkage(y = distance, method = \"complete\")\n",
    "plt.figure(figsize=(20, 30))\n",
    "dendro = dendrogram(graph, orientation=\"right\")"
   ]
  },
  {
   "cell_type": "code",
   "execution_count": 156,
   "metadata": {
    "colab": {
     "base_uri": "https://localhost:8080/",
     "height": 571
    },
    "id": "6dMbNBzEzLj3",
    "outputId": "8dbea759-203d-4caa-d7db-12a5a829af96"
   },
   "outputs": [
    {
     "data": {
      "image/png": "[encoded data removed]",
      "text/plain": [
       "<Figure size 1080x648 with 1 Axes>"
      ]
     },
     "metadata": {
      "tags": []
     },
     "output_type": "display_data"
    }
   ],
   "source": [
    "# final.groupby([\"cluster\", \"total_items_sold\"])[\"cluster\"].size().unstack()\n",
    "final.groupby([\"cluster\", \"is_on_the_road\"])[\"cluster\"].size().unstack() \n",
    "temp = full_table.groupby([\"cluster\"])[\"cluster\"].count()\n",
    "\n",
    "plt.style.use(\"ggplot\")\n",
    "plt.figure(figsize=(15,9))\n",
    "plt.barh([0,1], temp.values, label = \"Cluster Count\" )\n",
    "plt.ylabel(\"Clusters\")\n",
    "plt.xlabel(\"Count\")\n",
    "plt.title(\"Cluster VS count plot\")\n",
    "plt.xlim(0, 5000)\n",
    "plt.yticks([0, 1], [\"Cluster 0\", \"Cluster 1\"])\n",
    "plt.legend()\n",
    "plt.show()"
   ]
  },
  {
   "cell_type": "code",
   "execution_count": 52,
   "metadata": {
    "colab": {
     "base_uri": "https://localhost:8080/"
    },
    "id": "htAqi76JdfXr",
    "outputId": "8baf3ad3-a60b-41bd-a8ed-a8282dc09d50"
   },
   "outputs": [
    {
     "data": {
      "text/plain": [
       "(15000, 5)"
      ]
     },
     "execution_count": 52,
     "metadata": {
      "tags": []
     },
     "output_type": "execute_result"
    }
   ],
   "source": [
    "# from sklearn.decomposition import PCA as RandomizedPCA\n",
    "# pca = RandomizedPCA(n_components=5, svd_solver='randomized', whiten=True)\n",
    "# new_table_array = pca.fit_transform(X)                 \n",
    "# new_table_array.shape"
   ]
  },
  {
   "cell_type": "code",
   "execution_count": 27,
   "metadata": {
    "colab": {
     "base_uri": "https://localhost:8080/"
    },
    "id": "8J6FyYBpS8XZ",
    "outputId": "b62c33ba-1039-4890-d431-7e6869735e3b"
   },
   "outputs": [
    {
     "name": "stdout",
     "output_type": "stream",
     "text": [
      "shop_id ---> 845 unique values\n",
      "neighborhood ---> 7 unique values\n",
      "city ---> 16 unique values\n",
      "year_opened ---> 56 unique values\n",
      "is_on_the_road ---> 2 unique values\n",
      "is_with_the_well ---> 2 unique values\n",
      "is_with_additional_services ---> 2 unique values\n",
      "shop_type ---> 5 unique values\n",
      "location ---> 4 unique values\n",
      "date ---> 730 unique values\n",
      "owner ---> 5 unique values\n",
      "number_of_counters ---> 23 unique values\n",
      "goods_type ---> 11 unique values\n",
      "total_items_sold ---> 65467 unique values\n"
     ]
    }
   ],
   "source": [
    "for col_name in table:\n",
    "  print(\"{} ---> {} unique values\".format(col_name, table[col_name].nunique()))"
   ]
  },
  {
   "cell_type": "code",
   "execution_count": null,
   "metadata": {
    "id": "U5HBXUOWMck4"
   },
   "outputs": [],
   "source": [
    "\n",
    "fig = plt.figure(figsize = (8,8))\n",
    "ax = fig.add_subplot(1,1,1) \n",
    "ax.set_xlabel('Principal Component 1', fontsize = 15)\n",
    "ax.set_ylabel('Principal Component 2', fontsize = 15)\n",
    "ax.set_title('2 Component PCA', fontsize = 20)\n",
    "\n",
    "\n",
    "targets = ['Iris-setosa', 'Iris-versicolor', 'Iris-virginica']\n",
    "colors = ['r', 'g', 'b']\n",
    "for target, color in zip(targets,colors):\n",
    "    indicesToKeep = finalDf['target'] == target\n",
    "    ax.scatter(finalDf.loc[indicesToKeep, 'pc1']\n",
    "               , finalDf.loc[indicesToKeep, 'pc2']\n",
    "               , c = color\n",
    "               , s = 50)\n",
    "ax.legend(targets)\n",
    "ax.grid()"
   ]
  },
  {
   "cell_type": "code",
   "execution_count": null,
   "metadata": {
    "id": "O9AzIU93Mck6"
   },
   "outputs": [],
   "source": []
  },
  {
   "cell_type": "code",
   "execution_count": null,
   "metadata": {
    "id": "9T4pHTndMck9"
   },
   "outputs": [],
   "source": []
  }
 ],
 "metadata": {
  "colab": {
   "collapsed_sections": [],
   "name": "DS_GPN.ipynb",
   "provenance": []
  },
  "kernelspec": {
   "display_name": "Python 3",
   "language": "python",
   "name": "python3"
  },
  "language_info": {
   "codemirror_mode": {
    "name": "ipython",
    "version": 3
   },
   "file_extension": ".py",
   "mimetype": "text/x-python",
   "name": "python",
   "nbconvert_exporter": "python",
   "pygments_lexer": "ipython3",
   "version": "3.7.3"
  }
 },
 "nbformat": 4,
 "nbformat_minor": 1
}
